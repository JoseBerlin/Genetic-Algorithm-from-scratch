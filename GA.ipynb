{
  "nbformat": 4,
  "nbformat_minor": 0,
  "metadata": {
    "colab": {
      "provenance": []
    },
    "kernelspec": {
      "name": "python3",
      "display_name": "Python 3"
    },
    "language_info": {
      "name": "python"
    },
    "gpuClass": "standard"
  },
  "cells": [
    {
      "cell_type": "markdown",
      "source": [
        "GENETIC ALGORITHM FROM SCRATCH\n",
        "\n",
        "\n",
        "> Sphere Function\n",
        "\n",
        "> RosenBrock Function\n",
        "\n",
        "> Rastrigin Function\n",
        "\n",
        "\n",
        "\n",
        "\n"
      ],
      "metadata": {
        "id": "fqYyTgr3p8mQ"
      }
    },
    {
      "cell_type": "code",
      "source": [
        "# Importing Required Packages\n",
        "from random import randint as rand\n",
        "from random import *\n",
        "import random\n",
        "import numpy as np\n",
        "import matplotlib.pyplot as plt\n",
        "import math"
      ],
      "metadata": {
        "id": "TigbHSeaoU3O"
      },
      "execution_count": 78,
      "outputs": []
    },
    {
      "cell_type": "code",
      "source": [
        "# To make Duplicate of a population array by copying each chromosome in it\n",
        "# I'm using this method to make a copy of each dictionary[chromosome] inside the list[population]\n",
        "def duplicate(popl):\n",
        "  temp = {}\n",
        "  for i in popl:\n",
        "    temp[i] = popl[i].copy()\n",
        "  return temp"
      ],
      "metadata": {
        "id": "OtC8zuP6xEvg"
      },
      "execution_count": 79,
      "outputs": []
    },
    {
      "cell_type": "code",
      "source": [
        "## BenchMark Functions / Fitness Functions\n",
        "\n",
        "# Sphere Function\n",
        "def sphere(x):\n",
        "  return np.sum(np.square(x))\n",
        "\n",
        "# Rosenbrock function\n",
        "def Rosenbrockfunc(x):\n",
        "  x=list(x)\n",
        "  out = sum([100*pow(((x[i+1])-pow(x[i],2)),2)+pow((1-x[i]),2) for i in range(len(x)-1)])\n",
        "  return out\n",
        "\n",
        "# Rastrigin function\n",
        "def Rastriginfunc(x):\n",
        "  A=10\n",
        "  return (A*len(x) + np.sum(np.square(x) - A * np.cos(2 * math.pi * x)))"
      ],
      "metadata": {
        "id": "5SOpaihhoO3v"
      },
      "execution_count": 80,
      "outputs": []
    },
    {
      "cell_type": "code",
      "source": [
        "## Generating n population (here n=npop)\n",
        "def generate_population(xmin,xmax,dim,npop):\n",
        "    population={}\n",
        "    population = {'xval': None}\n",
        "    population['xval'] = np.random.uniform(low=xmin,high=xmax,size=[npop,dim])\n",
        "    return population"
      ],
      "metadata": {
        "id": "Qm1Ks5XU215N"
      },
      "execution_count": 81,
      "outputs": []
    },
    {
      "cell_type": "code",
      "source": [
        "# In this Selection part we're finding the fitness using the benchmark functions chosen, and deciding the parent\n",
        "def selection(popl,func_no):\n",
        "\n",
        "  # initializing the fitness as null inorder to avoid confusion while implementing iteration\n",
        "  popl['fitness'] = np.array([])\n",
        "\n",
        "  # finding Fitness by calling the benchmark Functions\n",
        "  if func_no == 1:\n",
        "    popl['fitness'] = np.array([sphere(popl['xval'][i]) for i in range(len(popl['xval']))])\n",
        "  elif func_no == 2:\n",
        "    popl['fitness'] = np.array([Rosenbrockfunc(popl['xval'][i]) for i in range(len(popl['xval']))])\n",
        "  elif func_no == 3:\n",
        "    popl['fitness'] = np.array([Rastriginfunc(popl['xval'][i]) for i in range(len(popl['xval']))])\n",
        "\n",
        "  # intializing parents\n",
        "  parent1 = {}\n",
        "  parent2 = {}\n",
        "  \n",
        "  # Using Tournanment selection\n",
        "  # Basically we are selecting 3 choices from the fitness and then we're choosing the parents with the lowest value among them\n",
        "  r1,r2,r3 = rand(0,len(popl['fitness'])-1),rand(0,len(popl['fitness'])-1),rand(0,len(popl['fitness'])-1)\n",
        "  temp1 = random.choices(popl['fitness'].copy(),k=3)\n",
        "  temp1 = np.sort(temp1)  # Sorting the shortlisted fitness values\n",
        "  parent1_loc = list(popl['fitness']).index(temp1[0])\n",
        "  parent2_loc = list(popl['fitness']).index(temp1[1])  \n",
        "  parent1['xval'] = popl['xval'][parent1_loc].copy()  # Selecting the parent 1\n",
        "  parent1['fitness'] = popl['fitness'][parent1_loc].copy()\n",
        "  parent2['xval'] = popl['xval'][parent2_loc].copy() # Selecting the parent 2\n",
        "  \n",
        "  return parent1,parent2"
      ],
      "metadata": {
        "id": "raifKItuvTp8"
      },
      "execution_count": 82,
      "outputs": []
    },
    {
      "cell_type": "code",
      "source": [
        "def crossover(parent1,parent2):\n",
        "\n",
        "  x_point = rand(0,len(parent1['xval'])-1)\n",
        "\n",
        "  child1 = np.concatenate([parent1['xval'][:x_point].copy(),parent2['xval'][x_point:].copy()])\n",
        "  child2 = np.concatenate([parent2['xval'][:x_point].copy(),parent1['xval'][x_point:].copy()])\n",
        "\n",
        "  return child1,child2"
      ],
      "metadata": {
        "id": "HGszPAaaXaKz"
      },
      "execution_count": 83,
      "outputs": []
    },
    {
      "cell_type": "code",
      "source": [
        "def mutation(xmin,xmax,child1,child2,parent1,parent2):\n",
        "    r = rand(0,len(child1)-1) # getting a random location to make the mutaion at child\n",
        "    child1[r] = random.uniform(xmin,xmax)\n",
        "    child2[r] = random.uniform(xmin,xmax)\n",
        "\n",
        "    return child1,child2"
      ],
      "metadata": {
        "id": "OVmJkCoAst0p"
      },
      "execution_count": 110,
      "outputs": []
    },
    {
      "cell_type": "code",
      "source": [
        "# This is to visualize the output found\n",
        "def plot(l):\n",
        "  plt.semilogx(l)"
      ],
      "metadata": {
        "id": "u7e_9iic1ghv"
      },
      "execution_count": 90,
      "outputs": []
    },
    {
      "cell_type": "code",
      "source": [
        "def main():\n",
        "  dim = 10  # dimention\n",
        "  npop = 10 #No of population\n",
        "  max_itr = 10000 # No of iterations \n",
        "  xmin=-100 # min input val\n",
        "  xmax= 100 # max input val\n",
        "\n",
        "  # Creating the initial population\n",
        "  population = generate_population(xmin,xmax,dim,npop)  \n",
        "\n",
        "  functions=['sphere','Rosenbrock', 'Rastrigin']  # The Benchmark functions we'll be using\n",
        "  List_out=[] # The temporary list to store the fitness of selected parents for a single function\n",
        "  Final_out=[]  # The final list containing the fitness of all benchmark functions\n",
        "\n",
        "  # This loop is to go through all 3 benchmark functions\n",
        "  # for j in range(1):\n",
        "  for j in range(len(functions)):\n",
        "    \n",
        "    # initializing the population to new variable before the real process starts\n",
        "    # so that the population will remain same for each benchmark Function\n",
        "    population_c = generate_population(xmin,xmax,dim,npop)  \n",
        "\n",
        "    #Start of the Genetic Algorithm\n",
        "    for i in range(max_itr):\n",
        "\n",
        "      # Selection of Parent 1 & Parent 2\n",
        "      parent1,parent2 = selection(duplicate(population_c),j+1)\n",
        "\n",
        "      # Adding the Fitness of the parrent 1 to the list\n",
        "      if(len(List_out)==0):\n",
        "        List_out.append(parent1['fitness'].copy())\n",
        "        del parent1['fitness']\n",
        "      elif(parent1['fitness']<=List_out[-1]):\n",
        "        List_out.append(parent1['fitness'].copy())\n",
        "        del parent1['fitness']\n",
        "\n",
        "\n",
        "      # Checking if the parent1 fitness is 0\n",
        "      if (round(List_out[-1])==0):\n",
        "        break\n",
        "\n",
        "      # destroying the previous generated population and creating empty array for newly mutated population\n",
        "      population_c['xval'] = np.array([])\n",
        "\n",
        "      # Creating the new population\n",
        "      for n in range(int(npop/2)):\n",
        "        # Crossover\n",
        "        child1,child2 = crossover(parent1.copy(),parent2.copy())\n",
        "\n",
        "        # Mutation\n",
        "        child1,child2 = mutation(xmin,xmax,child1.copy(),child2.copy(),parent1['xval'].copy(),parent2['xval'].copy())\n",
        "\n",
        "        # storing the mutated population for the next iteration\n",
        "        if(len(population_c['xval'])==0):\n",
        "          population_c['xval'] = np.array([child1.copy()])\n",
        "          population_c['xval'] = np.append(population_c['xval'],np.array([child2.copy()]),axis=0)\n",
        "        else:\n",
        "          population_c['xval'] = np.append(population_c['xval'],np.array([child1.copy()]),axis=0)\n",
        "          population_c['xval'] = np.append(population_c['xval'],np.array([child2.copy()]),axis=0)\n",
        "    \n",
        "    # Adding the list of fitness after each running through benchmark function\n",
        "    Final_out.append(List_out)\n",
        "    List_out=[]\n",
        "\n",
        "    # Printing the Optimum Value got from each benchmark function\n",
        "    print(str(functions[j])+\" Optimum Value\\t:\\t\",Final_out[j][-1])\n",
        "    List_out=[]\n",
        "  return Final_out\n",
        "l = main()"
      ],
      "metadata": {
        "colab": {
          "base_uri": "https://localhost:8080/"
        },
        "id": "_UbXHESsj_oC",
        "outputId": "7d26d413-4d1a-4357-d55b-f806c368ecf3"
      },
      "execution_count": 111,
      "outputs": [
        {
          "output_type": "stream",
          "name": "stdout",
          "text": [
            "sphere Optimum Value\t:\t 1712.0127000879418\n",
            "Rosenbrock Optimum Value\t:\t 51282475.904615015\n",
            "Rastrigin Optimum Value\t:\t 1487.5671614703047\n"
          ]
        }
      ]
    },
    {
      "cell_type": "code",
      "source": [
        "plt.title(\"Sphere Function\")\n",
        "plot(l[0])\n",
        "print(\"Sphere Function\\nOptimum Value : \",l[0][-1])"
      ],
      "metadata": {
        "colab": {
          "base_uri": "https://localhost:8080/",
          "height": 321
        },
        "id": "IzYy-ivESim7",
        "outputId": "1aa69db1-468c-40e5-bf77-32c6e6a7f6f0"
      },
      "execution_count": 112,
      "outputs": [
        {
          "output_type": "stream",
          "name": "stdout",
          "text": [
            "Sphere Function\n",
            "Optimum Value :  1712.0127000879418\n"
          ]
        },
        {
          "output_type": "display_data",
          "data": {
            "text/plain": [
              "<Figure size 432x288 with 1 Axes>"
            ],
            "image/png": "[encoded data removed]"
          },
          "metadata": {
            "needs_background": "light"
          }
        }
      ]
    },
    {
      "cell_type": "code",
      "source": [
        "plt.title(\"Rosenbrock function\")\n",
        "plot(l[1])\n",
        "print(\"Rosenbrock function\\nOptimum Value : \",l[1][-1])"
      ],
      "metadata": {
        "colab": {
          "base_uri": "https://localhost:8080/",
          "height": 321
        },
        "id": "u4E08e7cSlTl",
        "outputId": "2816c327-e89e-4864-ddcc-d709c81916a7"
      },
      "execution_count": 113,
      "outputs": [
        {
          "output_type": "stream",
          "name": "stdout",
          "text": [
            "Rosenbrock function\n",
            "Optimum Value :  51282475.904615015\n"
          ]
        },
        {
          "output_type": "display_data",
          "data": {
            "text/plain": [
              "<Figure size 432x288 with 1 Axes>"
            ],
            "image/png": "[encoded data removed]"
          },
          "metadata": {
            "needs_background": "light"
          }
        }
      ]
    },
    {
      "cell_type": "code",
      "source": [
        "plt.title(\"Rastrigin function\")\n",
        "plot(l[2])\n",
        "print(\"Rastrigin function\\nOptimum Value : \",l[2][-1])"
      ],
      "metadata": {
        "colab": {
          "base_uri": "https://localhost:8080/",
          "height": 321
        },
        "id": "ISnFAqMVU4If",
        "outputId": "fbe9ea0c-641e-493c-fd7e-826094fee34e"
      },
      "execution_count": 114,
      "outputs": [
        {
          "output_type": "stream",
          "name": "stdout",
          "text": [
            "Rastrigin function\n",
            "Optimum Value :  1487.5671614703047\n"
          ]
        },
        {
          "output_type": "display_data",
          "data": {
            "text/plain": [
              "<Figure size 432x288 with 1 Axes>"
            ],
            "image/png": "[encoded data removed]"
          },
          "metadata": {
            "needs_background": "light"
          }
        }
      ]
    }
  ]
}